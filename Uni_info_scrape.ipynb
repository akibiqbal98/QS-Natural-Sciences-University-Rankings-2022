{
  "cells": [
    {
      "cell_type": "code",
      "execution_count": 1,
      "metadata": {
        "id": "CxYvOym4miwe"
      },
      "outputs": [],
      "source": [
        "import json\n",
        "import sys\n",
        "from time import sleep\n",
        "from selenium import webdriver\n",
        "from selenium.webdriver.common.by import By\n",
        "from selenium.webdriver.remote.webelement import WebElement\n",
        "from selenium.webdriver.support.wait import WebDriverWait\n",
        "from selenium.webdriver.support import expected_conditions as EC\n",
        "import pandas as pd\n",
        "from IPython import display"
      ]
    },
    {
      "cell_type": "code",
      "execution_count": 5,
      "metadata": {
        "id": "sseHCTY1nKfY"
      },
      "outputs": [],
      "source": [
        "# sys.path.insert(0,'/usr/lib/chromium-browser/chromedriver')\n",
        "chrome_options = webdriver.ChromeOptions()\n",
        "chrome_options.add_argument('--headless')\n",
        "chrome_options.add_argument('--no-sandbox')\n",
        "chrome_options.add_argument('--disable-dev-shm-usage')\n",
        "driver = webdriver.Chrome(options=chrome_options)\n",
        "driver.get(\"https://www.topuniversities.com/university-rankings/university-subject-rankings/2022/natural-sciences#university-rankings-indicators\")\n",
        "\n",
        "\n",
        "CSS_SELECTOR = 'div#ranking-data-load a.uni-link'\n",
        "wait = WebDriverWait(driver, 30)\n",
        "universities: WebElement = wait.until(EC.presence_of_all_elements_located((By.CSS_SELECTOR, CSS_SELECTOR)))\n",
        "# print(elements[1].get_attribute('outerHTML'))\n",
        "# print(len(elements))\n",
        "\n",
        "\n",
        "# get the uni links\n",
        "uni_names = list(map(lambda x: x.text, universities))\n",
        "# print(uni_names)\n",
        "\n",
        "\n",
        "uni_links = list(map(lambda x: x.get_attribute('href'), universities))\n",
        "# print(uni_links)\n",
        "\n",
        "\n",
        "uni_info = {}\n",
        "\n",
        "def change_tab(by, value):\n",
        "    element: WebElement = wait.until(EC.presence_of_element_located((by, value)))\n",
        "    driver.execute_script(\"arguments[0].click();\", element)  # Working\n",
        "    sleep(1)\n",
        "\n",
        "\n",
        "\n",
        "\n",
        "def change_page():\n",
        "    # next page button\n",
        "    # XPATH = '//ul[@id=\"alt-style-pagination\"]//li//a[@class=\"page-link next\"]'\n",
        "    # element: WebElement = wait.until(EC.presence_of_element_located((By.XPATH, XPATH)))\n",
        "    \n",
        "    CSS_SELECTOR = 'ul#alt-style-pagination a.page-link.next'\n",
        "\n",
        "    element: WebElement = wait.until(EC.presence_of_element_located((By.CSS_SELECTOR, CSS_SELECTOR)))\n",
        "    \n",
        "    \n",
        "    driver.execute_script(\"arguments[0].click();\", element)  # Working\n",
        "\n"
      ]
    },
    {
      "cell_type": "code",
      "execution_count": 7,
      "metadata": {
        "colab": {
          "base_uri": "https://localhost:8080/",
          "height": 1000
        },
        "id": "UE6mKst5AMa7",
        "outputId": "6d8a1b4d-14e9-4639-e889-fb1895d3d82a"
      },
      "outputs": [
        {
          "name": "stdout",
          "output_type": "stream",
          "text": [
            "**************  Visiting : Massachusetts Institute of Technology (MIT)  \n",
            "**************  Visiting : Harvard University  \n",
            "**************  Visiting : University of Cambridge  \n",
            "**************  Visiting : University of Oxford  \n",
            "**************  Visiting : Stanford University  \n",
            "**************  Visiting : ETH Zurich  \n",
            "**************  Visiting : California Institute of Technology (Caltech)  \n",
            "**************  Visiting : University of California, Berkeley (UCB)  \n",
            "**************  Visiting : Imperial College London  \n",
            "**************  Visiting : The University of Tokyo  \n",
            "Message: \n",
            "\n",
            "10\n"
          ]
        },
        {
          "ename": "TimeoutException",
          "evalue": "Message: \nStacktrace:\nBacktrace:\n\t(No symbol) [0x00FCF243]\n\t(No symbol) [0x00F57FD1]\n\t(No symbol) [0x00E4D04D]\n\t(No symbol) [0x00E7C0B0]\n\t(No symbol) [0x00E7C22B]\n\t(No symbol) [0x00EAE612]\n\t(No symbol) [0x00E985D4]\n\t(No symbol) [0x00EAC9EB]\n\t(No symbol) [0x00E98386]\n\t(No symbol) [0x00E7163C]\n\t(No symbol) [0x00E7269D]\n\tGetHandleVerifier [0x01269A22+2655074]\n\tGetHandleVerifier [0x0125CA24+2601828]\n\tGetHandleVerifier [0x01078C0A+619850]\n\tGetHandleVerifier [0x01077830+614768]\n\t(No symbol) [0x00F605FC]\n\t(No symbol) [0x00F65968]\n\t(No symbol) [0x00F65A55]\n\t(No symbol) [0x00F7051B]\n\tBaseThreadInitThunk [0x757E6BD9+25]\n\tRtlGetFullPathName_UEx [0x77148FD2+1218]\n\tRtlGetFullPathName_UEx [0x77148F9D+1165]\n",
          "output_type": "error",
          "traceback": [
            "\u001b[1;31m---------------------------------------------------------------------------\u001b[0m",
            "\u001b[1;31mTimeoutException\u001b[0m                          Traceback (most recent call last)",
            "Cell \u001b[1;32mIn[7], line 51\u001b[0m\n\u001b[0;32m     49\u001b[0m \u001b[39mprint\u001b[39m(\u001b[39mlen\u001b[39m(uni_info))\n\u001b[0;32m     50\u001b[0m \u001b[39mif\u001b[39;00m indx \u001b[39m!=\u001b[39m \u001b[39m51\u001b[39m \u001b[39m-\u001b[39m \u001b[39m1\u001b[39m:\n\u001b[1;32m---> 51\u001b[0m     change_page()\n\u001b[0;32m     52\u001b[0m     sleep(\u001b[39m5\u001b[39m) \n\u001b[0;32m     53\u001b[0m \u001b[39mbreak\u001b[39;00m\n",
            "Cell \u001b[1;32mIn[5], line 43\u001b[0m, in \u001b[0;36mchange_page\u001b[1;34m()\u001b[0m\n\u001b[0;32m     36\u001b[0m \u001b[39mdef\u001b[39;00m \u001b[39mchange_page\u001b[39m():\n\u001b[0;32m     37\u001b[0m     \u001b[39m# next page button\u001b[39;00m\n\u001b[0;32m     38\u001b[0m     \u001b[39m# XPATH = '//ul[@id=\"alt-style-pagination\"]//li//a[@class=\"page-link next\"]'\u001b[39;00m\n\u001b[0;32m     39\u001b[0m     \u001b[39m# element: WebElement = wait.until(EC.presence_of_element_located((By.XPATH, XPATH)))\u001b[39;00m\n\u001b[0;32m     41\u001b[0m     CSS_SELECTOR \u001b[39m=\u001b[39m \u001b[39m'\u001b[39m\u001b[39mul#alt-style-pagination a.page-link.next\u001b[39m\u001b[39m'\u001b[39m\n\u001b[1;32m---> 43\u001b[0m     element: WebElement \u001b[39m=\u001b[39m wait\u001b[39m.\u001b[39;49muntil(EC\u001b[39m.\u001b[39;49mpresence_of_element_located((By\u001b[39m.\u001b[39;49mCSS_SELECTOR, CSS_SELECTOR)))\n\u001b[0;32m     46\u001b[0m     driver\u001b[39m.\u001b[39mexecute_script(\u001b[39m\"\u001b[39m\u001b[39marguments[0].click();\u001b[39m\u001b[39m\"\u001b[39m, element)\n",
            "File \u001b[1;32mc:\\Users\\akibi\\AppData\\Local\\Programs\\Python\\Python39\\lib\\site-packages\\selenium\\webdriver\\support\\wait.py:95\u001b[0m, in \u001b[0;36mWebDriverWait.until\u001b[1;34m(self, method, message)\u001b[0m\n\u001b[0;32m     93\u001b[0m     \u001b[39mif\u001b[39;00m time\u001b[39m.\u001b[39mmonotonic() \u001b[39m>\u001b[39m end_time:\n\u001b[0;32m     94\u001b[0m         \u001b[39mbreak\u001b[39;00m\n\u001b[1;32m---> 95\u001b[0m \u001b[39mraise\u001b[39;00m TimeoutException(message, screen, stacktrace)\n",
            "\u001b[1;31mTimeoutException\u001b[0m: Message: \nStacktrace:\nBacktrace:\n\t(No symbol) [0x00FCF243]\n\t(No symbol) [0x00F57FD1]\n\t(No symbol) [0x00E4D04D]\n\t(No symbol) [0x00E7C0B0]\n\t(No symbol) [0x00E7C22B]\n\t(No symbol) [0x00EAE612]\n\t(No symbol) [0x00E985D4]\n\t(No symbol) [0x00EAC9EB]\n\t(No symbol) [0x00E98386]\n\t(No symbol) [0x00E7163C]\n\t(No symbol) [0x00E7269D]\n\tGetHandleVerifier [0x01269A22+2655074]\n\tGetHandleVerifier [0x0125CA24+2601828]\n\tGetHandleVerifier [0x01078C0A+619850]\n\tGetHandleVerifier [0x01077830+614768]\n\t(No symbol) [0x00F605FC]\n\t(No symbol) [0x00F65968]\n\t(No symbol) [0x00F65A55]\n\t(No symbol) [0x00F7051B]\n\tBaseThreadInitThunk [0x757E6BD9+25]\n\tRtlGetFullPathName_UEx [0x77148FD2+1218]\n\tRtlGetFullPathName_UEx [0x77148F9D+1165]\n"
          ]
        }
      ],
      "source": [
        "for indx in range(51):\n",
        "    while(True):\n",
        "        try:\n",
        "            for name,link in zip(uni_names, uni_links):\n",
        "                print(f\"**************  Visiting : {name}  \")\n",
        "                \n",
        "                driver.get(link)\n",
        "                try: \n",
        "                    CSS_SELECTOR = \"div.tab-content  div.univ-subsection-full-width-value\"\n",
        "                    addmissin_info = wait.until(EC.presence_of_all_elements_located((By.CSS_SELECTOR, CSS_SELECTOR)))\n",
        "\n",
        "                    labels = list(map(lambda info:info.find_element(By.CSS_SELECTOR, 'label').text, addmissin_info)) \n",
        "                    values = list(map(lambda info:info.find_element(By.CSS_SELECTOR, 'div').text, addmissin_info))\n",
        "                    \n",
        "                except Exception as e:\n",
        "                    print(e)\n",
        "                \n",
        "                else: \n",
        "                    if uni_info.get(name) is None :\n",
        "                        uni_info[name] = {\"ADDMISSION\": {}}\n",
        "\n",
        "                    uni_info[name][\"ADDMISSION\"] = {k : v for k,v in zip(labels, values)}\n",
        "\n",
        "                try:\n",
        "                    \n",
        "                    change_tab(By.ID, 'studStaff_Tab')\n",
        "\n",
        "                    CSS_SELECTOR_TITLE = \"div#studStaffTab label.studstaff-subsection-title\"\n",
        "                    titles = list(map(lambda x: x.text , driver.find_elements(By.CSS_SELECTOR ,CSS_SELECTOR_TITLE))) \n",
        "\n",
        "                    CSS_SELECTOR_COUNT = \"div#studStaffTab div.studstaff-subsection-count\"\n",
        "                    counts = list(map(lambda x: x.text , driver.find_elements(By.CSS_SELECTOR ,CSS_SELECTOR_COUNT)))\n",
        "\n",
        "                except Exception as e:\n",
        "                    print(e)\n",
        "\n",
        "                else: \n",
        "                    if uni_info.get(name) is None :\n",
        "                        uni_info[name] = {\"Students and Stuffs\": {}}\n",
        "\n",
        "                    uni_info[name][\"Students and Stuffs\"] = {k : v for k,v in zip(titles, counts)}\n",
        "            \n",
        "            \n",
        "        except Exception as e:\n",
        "            print(e)\n",
        "            continue\n",
        "        \n",
        "        else:\n",
        "            print(len(uni_info))\n",
        "            if indx != 51 - 1:\n",
        "                change_page()\n",
        "                sleep(5) \n",
        "            break\n",
        "            \n",
        "        print('****************  Visiting completed *********************')"
      ]
    },
    {
      "cell_type": "code",
      "execution_count": null,
      "metadata": {
        "id": "58iq9FRGOmhQ"
      },
      "outputs": [],
      "source": [
        "print(json.dumps(uni_info, indent = 2))"
      ]
    }
  ],
  "metadata": {
    "colab": {
      "provenance": []
    },
    "kernelspec": {
      "display_name": "Python 3.9.13 64-bit",
      "language": "python",
      "name": "python3"
    },
    "language_info": {
      "codemirror_mode": {
        "name": "ipython",
        "version": 3
      },
      "file_extension": ".py",
      "mimetype": "text/x-python",
      "name": "python",
      "nbconvert_exporter": "python",
      "pygments_lexer": "ipython3",
      "version": "3.9.13"
    },
    "vscode": {
      "interpreter": {
        "hash": "cf91a66750ecc7788d35dda500a89acb75a4d5fcf66d36b86b31f96f17e46713"
      }
    }
  },
  "nbformat": 4,
  "nbformat_minor": 0
}
