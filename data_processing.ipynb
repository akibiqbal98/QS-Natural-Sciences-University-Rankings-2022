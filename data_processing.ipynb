{
 "cells": [
  {
   "cell_type": "code",
   "execution_count": 1,
   "metadata": {},
   "outputs": [],
   "source": [
    "import pandas as pd\n",
    "\n",
    "columns = [\"World Rank\" , \"University name\", \"Overall Score\", \"International Research Network\" , \"H-Index citations\", \"Citations per paper\" , \"Academic reputation\", \"Employer Reputation\"]\n",
    "\n",
    "df = pd.read_json('data.json')\n",
    "df = pd.DataFrame(df, columns=columns)\n"
   ]
  },
  {
   "cell_type": "code",
   "execution_count": 2,
   "metadata": {},
   "outputs": [],
   "source": [
    "df['World Rank'] = df['World Rank'].apply(lambda x: x.replace('=', ''))"
   ]
  },
  {
   "cell_type": "code",
   "execution_count": null,
   "metadata": {},
   "outputs": [],
   "source": [
    "df.to_csv(\"QS_World_University_Rankings_by_Subject_2022_Natural_Sciences.csv\" , index= False)"
   ]
  }
 ],
 "metadata": {
  "kernelspec": {
   "display_name": "Python 3.9.13 64-bit",
   "language": "python",
   "name": "python3"
  },
  "language_info": {
   "codemirror_mode": {
    "name": "ipython",
    "version": 3
   },
   "file_extension": ".py",
   "mimetype": "text/x-python",
   "name": "python",
   "nbconvert_exporter": "python",
   "pygments_lexer": "ipython3",
   "version": "3.9.13"
  },
  "orig_nbformat": 4,
  "vscode": {
   "interpreter": {
    "hash": "cf91a66750ecc7788d35dda500a89acb75a4d5fcf66d36b86b31f96f17e46713"
   }
  }
 },
 "nbformat": 4,
 "nbformat_minor": 2
}
